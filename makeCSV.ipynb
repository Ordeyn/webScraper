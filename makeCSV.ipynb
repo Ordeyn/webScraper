{
 "cells": [
  {
   "cell_type": "code",
   "execution_count": 76,
   "metadata": {},
   "outputs": [],
   "source": [
    "import json\n",
    "import csv\n",
    "import re"
   ]
  },
  {
   "cell_type": "code",
   "execution_count": 78,
   "metadata": {},
   "outputs": [],
   "source": [
    "bestSellers = []\n",
    "\n",
    "with open('bestSellers.jl') as f:  \n",
    "  data = f.read()\n",
    "\n",
    "  dataSplit = data.split(\"\\n\")\n",
    "\n",
    "  rank = 1\n",
    "\n",
    "  for dict in dataSplit:\n",
    "    list = dict.split(\",\")\n",
    "\n",
    "    row = [rank]\n",
    "\n",
    "    for item in list:\n",
    "      # item = item.replace(\"{\", \"\")\n",
    "      # item = item.replace(\"}\", \"\")\n",
    "      # item = item.replace(\" \", \"\")\n",
    "      # item = item.replace('\"', \"\")\n",
    "      \n",
    "      itemSplit = item.split(\":\")\n",
    "\n",
    "      for i in itemSplit:\n",
    "        if itemSplit.index(i) % 2 != 0:\n",
    "          i = re.sub(r'[^a-zA-Z0-9_ \\-]', '', i)\n",
    "          \n",
    "          row.append(i.strip())\n",
    "\n",
    "    rank = rank + 1\n",
    "    # print(\"row: \", row)\n",
    "\n",
    "    bestSellers.append(row)"
   ]
  },
  {
   "cell_type": "code",
   "execution_count": 82,
   "metadata": {},
   "outputs": [],
   "source": [
    "header = ['rank', 'title', 'link', 'page']\n",
    "\n",
    "with open(\"bestSellers.csv\", \"w\") as file:\n",
    "  writer = csv.writer(file)\n",
    "\n",
    "  writer.writerow(header)\n",
    "\n",
    "  for row in bestSellers:\n",
    "    writer.writerow(row)"
   ]
  }
 ],
 "metadata": {
  "kernelspec": {
   "display_name": "Python 3.10.4 64-bit",
   "language": "python",
   "name": "python3"
  },
  "language_info": {
   "codemirror_mode": {
    "name": "ipython",
    "version": 3
   },
   "file_extension": ".py",
   "mimetype": "text/x-python",
   "name": "python",
   "nbconvert_exporter": "python",
   "pygments_lexer": "ipython3",
   "version": "3.10.4"
  },
  "orig_nbformat": 4,
  "vscode": {
   "interpreter": {
    "hash": "369f2c481f4da34e4445cda3fffd2e751bd1c4d706f27375911949ba6bb62e1c"
   }
  }
 },
 "nbformat": 4,
 "nbformat_minor": 2
}
